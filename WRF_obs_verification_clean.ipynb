{
  "nbformat": 4,
  "nbformat_minor": 0,
  "metadata": {
    "colab": {
      "name": "WRF_obs_verification_clean.ipynb",
      "provenance": [],
      "collapsed_sections": []
    },
    "kernelspec": {
      "name": "python3",
      "display_name": "Python 3"
    }
  },
  "cells": [
    {
      "cell_type": "markdown",
      "metadata": {
        "id": "edFjAscyGFtt"
      },
      "source": [
        "# Read time series of wind speed from observations and the WRF model \n",
        "\n",
        "\n",
        "*   Read data from DTU Wind Energy site Høvsøre on the Danish west coast \n",
        "*   The data is in GitHub: [Data for SDC summer school](https://github.com/ahahmann/SDC-summer-school)\n",
        "\n",
        "## Section 1: Read the data"
      ]
    },
    {
      "cell_type": "code",
      "metadata": {
        "id": "bqadkhyKbfDD"
      },
      "source": [
        "# Special code for Jupyter Notebook\n",
        "%matplotlib inline\n",
        "\n",
        "# import other 3rd party libraries\n",
        "from scipy.stats import linregress\n",
        "import pandas as pd\n",
        "import numpy as np\n",
        "import matplotlib.pyplot as plt\n",
        "import sys,importlib\n",
        "import xarray as xr"
      ],
      "execution_count": null,
      "outputs": []
    },
    {
      "cell_type": "code",
      "metadata": {
        "id": "KIcLX-qZNqpU"
      },
      "source": [
        "# Define some useful functions\n",
        "def corr(X,Y):\n",
        "    Y = np.where(np.isnan(X),np.nan,Y)\n",
        "    X = np.where(np.isnan(Y),np.nan,X)\n",
        "    n = np.count_nonzero(~np.isnan(X))\n",
        "    r = np.nansum(X*Y) - n*np.nanmean(X)*np.nanmean(Y)\n",
        "    r = r/(n*np.sqrt(np.nanvar(X)*np.nanvar(Y)))\n",
        "    return(r)\n",
        "\n",
        "def rmse(predictions, targets):\n",
        "    return np.sqrt(((predictions - targets) ** 2).mean())\n",
        "\n",
        "def read_hovsore(year=2000):\n",
        "    if year != 2000 and (year < 2005 or year > 2017) :\n",
        "        print(\"No data for \",year)\n",
        "        return\n",
        "\n",
        "    url = \"https://raw.githubusercontent.com/ahahmann/SDC-summer-school/master/\"\n",
        "    filename = \"hovsore80m_2005_2017_clean.csv\"\n",
        "    headerNames = ['time', 'U80', 'D100'] \n",
        "    data = pd.read_csv(url+filename, skiprows=1, names=headerNames)\n",
        "\n",
        "    dates = pd.to_datetime(data.time)\n",
        "    dates = dates - np.timedelta64(1,'h')  # Convert to UTC\n",
        "    data.index = dates\n",
        "    data = data.drop(['time'],axis=1)\n",
        "\n",
        "    if year == 2000:\n",
        "        return data\n",
        "    else:\n",
        "        dataY = data.loc[str(year)]\n",
        "        return dataY\n",
        "\n",
        "def MCP_Var(mast, ref, mast_U, ref_U):\n",
        "    \"\"\"\n",
        "    Perform MCP on mast using reference, via variance-ratio method\n",
        "    \n",
        "    This will perform MCP on the mast and reference dataframes to \n",
        "    create a long-term corrected dataset at the mast location.\n",
        "    \n",
        "    .. note:: The mast and reference wind speeds should be at the\n",
        "              same height.\n",
        "    \n",
        "    :param dataframe mast: Dataframe with mast data\n",
        "    :param dataframe ref: Dataframe with reference site data\n",
        "    :param string mast_U: Name of the wind speed column of mast\n",
        "    :param string ref_U: Name of the wind speed column of ref\n",
        "    :param string mast_time: Name of the date column of mast\n",
        "    :param string ref_time: Name of the date column of ref\n",
        "    \"\"\"\n",
        "    # Adjust wind speed names if identical\n",
        "    if mast_U == ref_U:\n",
        "        mrg_mast = mast_U + \"_x\"\n",
        "        mrg_ref = ref_U + \"_y\"\n",
        "    else:\n",
        "        mrg_mast = mast_U\n",
        "        mrg_ref = ref_U\n",
        "    \n",
        "    # Create a merged dataset, only times in both df's\n",
        "    mrg = mast.join(ref, lsuffix='_x', rsuffix='_y').dropna()\n",
        "    \n",
        "   # Use variance-ratio method to fit wind speeds\n",
        "    mnref = np.mean(mrg[mrg_ref])\n",
        "    sdref = np.sqrt(((mrg[mrg_ref])**2).mean())\n",
        "    mnmast = np.mean(mrg[mrg_mast])\n",
        "    sdmast = np.sqrt(((mrg[mrg_mast])**2).mean())\n",
        "    adj_U = mnmast + (sdmast/sdref)*(ref[ref_U]-mnref)\n",
        "    \n",
        "    return pd.DataFrame({\"U80\": adj_U})\n",
        "\n",
        "def MCP_LinReg(mast, ref, mast_U, ref_U):\n",
        "    \"\"\"\n",
        "    Perform MCP on mast using reference, via linear-regression\n",
        "    \n",
        "    This will perform MCP on the mast and reference dataframes to \n",
        "    create a long-term corrected dataset at the mast location.\n",
        "    \n",
        "    .. note:: The mast and reference wind speeds need to be at the\n",
        "              same height.\n",
        "    \n",
        "    :param dataframe mast: Dataframe with mast data\n",
        "    :param dataframe ref: Dataframe with reference site data\n",
        "    :param string mast_U: Name of the wind speed column of mast\n",
        "    :param string ref_U: Name of the wind speed column of ref\n",
        "    :param string mast_time: Name of the date column of mast\n",
        "    :param string ref_time: Name of the date column of ref\n",
        "    \"\"\"\n",
        "     # Adjust wind speed names if identical\n",
        "    if mast_U == ref_U:\n",
        "        mrg_mast = mast_U + \"_x\"\n",
        "        mrg_ref = ref_U + \"_y\"\n",
        "    else:\n",
        "        mrg_mast = mast_U\n",
        "        mrg_ref = ref_U\n",
        "\n",
        "    # Create a merged dataset; only times in both df's\n",
        "    mrg = mast.join(ref, lsuffix='_x', rsuffix='_y').dropna()\n",
        "    \n",
        "    # Use linear regression for scaling mast speeds per long-term\n",
        "    slope, intercept, _, _, _ = linregress(mrg[mrg_ref], mrg[mrg_mast])\n",
        "    \n",
        "    lt_U = ref[ref_U]*slope + intercept\n",
        "    \n",
        "    return pd.DataFrame({\"U80\": lt_U})   \n"
      ],
      "execution_count": null,
      "outputs": []
    },
    {
      "cell_type": "markdown",
      "metadata": {
        "id": "dyTQgrwJT5rb"
      },
      "source": [
        "## Section 1: Read the datasets"
      ]
    },
    {
      "cell_type": "code",
      "metadata": {
        "id": "1MXYH43wOvbE"
      },
      "source": [
        "# Read the winds simulated by WRF\n",
        "url = \"https://raw.githubusercontent.com/ahahmann/SDC-summer-school/master/\"\n",
        "\n",
        "# This is the simulated data, WRF model, all years\n",
        "TSfile = url+\"WRF_Hovsore_2005-2017.csv\"\n",
        "ref = pd.read_csv(TSfile,parse_dates=True,index_col=\"Time\")\n",
        "ref.head()\n",
        "\n",
        "# Read the observed winds for one year (choose the year you want to examine)\n",
        "year = XXXX\n",
        "hovsore = read_hovsore(year)\n",
        "\n",
        "# Plot the two time series\n",
        "ref['U80'].plot(figsize=(10,3),label=\"WRF\")\n",
        "hovsore['U80'].plot(figsize=(10,3),label=\"OBS\")\n",
        "plt.legend()\n",
        "plt.show()\n"
      ],
      "execution_count": null,
      "outputs": []
    },
    {
      "cell_type": "markdown",
      "metadata": {
        "id": "eB4ywgzBI1vN"
      },
      "source": [
        "## Section 2: Visually examine the data"
      ]
    },
    {
      "cell_type": "code",
      "metadata": {
        "id": "1-dMCl0FS7dm"
      },
      "source": [
        "# Plot a short time period, maybe a month, then a day\n",
        "fig,ax = plt.subplots(figsize=(10,3))\n",
        "ax.plot(ref.U80.loc[str(year)+\"-03\"],label='Simulated')\n",
        "ax.plot(hovsore.U80.loc[str(year)+\"-03\"],label=\"Observed\")\n",
        "ax.set_ylabel('wind speed [m/s]')\n",
        "ax.set_title('Wind speed, March '+str(year))\n",
        "plt.legend()\n",
        "plt.show()"
      ],
      "execution_count": null,
      "outputs": []
    },
    {
      "cell_type": "markdown",
      "metadata": {
        "id": "P3YjXl8GYQ6k"
      },
      "source": [
        "What do you see when comparing the observed and modeled data?\n",
        "\n",
        "* What is correctly simulated?\n",
        "* What is not correctly simulated?\n",
        "* What type of errors are most common?"
      ]
    },
    {
      "cell_type": "markdown",
      "metadata": {
        "id": "EWGcdg7x2BT-"
      },
      "source": [
        "## Section 3: Compute some statistics\n"
      ]
    },
    {
      "cell_type": "code",
      "metadata": {
        "id": "qW4DIzVs17NH"
      },
      "source": [
        "# Merge the WRF and OBS datasets\n",
        "mrg = hovsore.join(ref, lsuffix='_x', rsuffix='_y').dropna()\n",
        "# print(mrg)\n",
        "plt.scatter(mrg.U80_x, mrg.U80_y, s=2)\n",
        "plt.title('OBS versus REF wind speed, h=80m')\n",
        "plt.xlabel('OBS wind')\n",
        "plt.ylabel('REF wind')\n",
        "\n",
        "print('U obs mean: {:4.2f} m/s'.format(mrg.U80_x.mean()))\n",
        "print('U sim mean: {:4.2f} m/s'.format(mrg.U80_y.mean()))\n",
        "print('Correlation: {:4.2f}'.format(corr(mrg.U80_x, mrg.U80_y)))\n",
        "print('Bias: {:4.2%}'.format((mrg.U80_x - mrg.U80_y).mean()/mrg.U80_x.mean()))"
      ],
      "execution_count": null,
      "outputs": []
    },
    {
      "cell_type": "markdown",
      "metadata": {
        "id": "MChQkrmNYwJo"
      },
      "source": [
        "## Section 4: Perform MCP\n",
        "The functions MCP_LinReg and MCP_Var will be used to create long-term corrected datasets. The MCP functions take two dataframes as input, and will need to be provided with the names of the U columns to be used for the analysis. They can optionally take in a name of the date field as well."
      ]
    },
    {
      "cell_type": "code",
      "metadata": {
        "id": "0QXEyB7uVndI"
      },
      "source": [
        "lt_var = MCP_Var(hovsore, ref, \"U80\", \"U80\")\n",
        "lt_lin = MCP_LinReg(hovsore, ref, \"U80\", \"U80\")\n",
        "print(lt_var)"
      ],
      "execution_count": null,
      "outputs": []
    },
    {
      "cell_type": "code",
      "metadata": {
        "id": "ShmGl_SXWRjr"
      },
      "source": [
        "#lt_var back observed **all years** to evaluate LTC method\n",
        "\n",
        "hovsore = read_hovsore()  ## read all years\n",
        "\n",
        "# Join the dataframes to make sure same sample is used\n",
        "\n",
        "eval_ref = hovsore.join(ref, lsuffix='_o', rsuffix='_LT').dropna()\n",
        "eval_lt_var = hovsore.join(lt_var, lsuffix='_o', rsuffix='_LT').dropna()\n",
        "eval_lt_lin = hovsore.join(lt_lin, lsuffix='_o', rsuffix='_LT').dropna()"
      ],
      "execution_count": null,
      "outputs": []
    },
    {
      "cell_type": "code",
      "source": [
        "# Compute the RMSE and BIAS between using the two methods\n",
        "# Compare to the BIAS of using a single year of data to using the two LTC methods"
      ],
      "metadata": {
        "id": "2Pim9uy9VT5D"
      },
      "execution_count": null,
      "outputs": []
    }
  ]
}